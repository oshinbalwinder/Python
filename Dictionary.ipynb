{
 "cells": [
  {
   "cell_type": "markdown",
   "id": "84a239d9-922b-4d59-ade0-85f81d828231",
   "metadata": {},
   "source": [
    "An Example of Dictionary ```Dict```"
   ]
  },
  {
   "cell_type": "code",
   "execution_count": 3,
   "id": "feb47c5e-a84b-4f3f-9898-f064060c4a6e",
   "metadata": {},
   "outputs": [
    {
     "data": {
      "text/plain": [
       "{'key1': 1, 'key2': '2', 'key3': [1, 2, 3], 'key4': (3, 4, 5), (0, 1): 6, 7: 6}"
      ]
     },
     "execution_count": 3,
     "metadata": {},
     "output_type": "execute_result"
    }
   ],
   "source": [
    "# Create a dictionary\n",
    "\n",
    "Dict = {\"key1\" : 1, \"key2\" :\"2\", \"key3\" : [1,2,3],\"key4\" : (3,4,5), (0,1) : 6, 7 : 6}\n",
    "Dict"
   ]
  },
  {
   "cell_type": "markdown",
   "id": "b7bda189-e587-4008-a060-1d27fc37ce0b",
   "metadata": {},
   "source": [
    "The keys can be string or interger. We can retrieve the values based on the keys"
   ]
  },
  {
   "cell_type": "code",
   "execution_count": 6,
   "id": "a51016ae-7ed1-4d90-8194-4f87e674a8cb",
   "metadata": {},
   "outputs": [
    {
     "data": {
      "text/plain": [
       "6"
      ]
     },
     "execution_count": 6,
     "metadata": {},
     "output_type": "execute_result"
    }
   ],
   "source": [
    "# Access to the value by key\n",
    "\n",
    "Dict[\"key1\"]\n",
    "Dict[7]"
   ]
  },
  {
   "cell_type": "markdown",
   "id": "f9c93d4c-0504-419e-adce-1d9909ec1e27",
   "metadata": {},
   "source": [
    "Keys can also be immutable objects such as tuple:"
   ]
  },
  {
   "cell_type": "code",
   "execution_count": 7,
   "id": "838ec095-991e-4ddf-99e0-133d8402086e",
   "metadata": {},
   "outputs": [
    {
     "data": {
      "text/plain": [
       "6"
      ]
     },
     "execution_count": 7,
     "metadata": {},
     "output_type": "execute_result"
    }
   ],
   "source": [
    "Dict[(0,1)]"
   ]
  },
  {
   "cell_type": "markdown",
   "id": "9f9f8357-9a41-403b-9504-d5745988a6d4",
   "metadata": {},
   "source": [
    "We can retrieve the keys of the dictionary using method ```keys()```"
   ]
  },
  {
   "cell_type": "code",
   "execution_count": 9,
   "id": "d9720605-b73c-4c84-bbfa-b63f31ffabda",
   "metadata": {},
   "outputs": [
    {
     "data": {
      "text/plain": [
       "dict_keys(['key1', 'key2', 'key3', 'key4', (0, 1), 7])"
      ]
     },
     "execution_count": 9,
     "metadata": {},
     "output_type": "execute_result"
    }
   ],
   "source": [
    "# Get all the keys in the dictionary\n",
    "Dict.keys()"
   ]
  },
  {
   "cell_type": "markdown",
   "id": "eb974300-08c7-48bc-b34e-88a2e3050964",
   "metadata": {},
   "source": [
    "We can retreive the vaules of the dictionary sing method ```values()```"
   ]
  },
  {
   "cell_type": "code",
   "execution_count": 11,
   "id": "434ebcee-7c64-47e5-a0d7-2409c461c38e",
   "metadata": {},
   "outputs": [
    {
     "data": {
      "text/plain": [
       "dict_values([1, '2', [1, 2, 3], (3, 4, 5), 6, 6])"
      ]
     },
     "execution_count": 11,
     "metadata": {},
     "output_type": "execute_result"
    }
   ],
   "source": [
    "Dict.values()"
   ]
  },
  {
   "cell_type": "code",
   "execution_count": 13,
   "id": "151886b1-ce1e-4f8f-8010-c89af93f0212",
   "metadata": {},
   "outputs": [
    {
     "data": {
      "text/plain": [
       "{'key1': 1,\n",
       " 'key2': '2',\n",
       " 'key3': [1, 2, 3],\n",
       " 'key4': (3, 4, 5),\n",
       " (0, 1): 6,\n",
       " 7: 6,\n",
       " 'key8': 8}"
      ]
     },
     "execution_count": 13,
     "metadata": {},
     "output_type": "execute_result"
    }
   ],
   "source": [
    "#Append values with key into the dictionary\n",
    "\n",
    "Dict['key8'] = 8\n",
    "Dict"
   ]
  },
  {
   "cell_type": "code",
   "execution_count": 14,
   "id": "0e4dc164-ea6d-4ab0-b102-5010561dce76",
   "metadata": {},
   "outputs": [
    {
     "data": {
      "text/plain": [
       "{'key1': 1, 'key2': '2', 'key3': [1, 2, 3], 'key4': (3, 4, 5), 7: 6}"
      ]
     },
     "execution_count": 14,
     "metadata": {},
     "output_type": "execute_result"
    }
   ],
   "source": [
    "# Delete enteries by key\n",
    "\n",
    "del(Dict['key8'])\n",
    "del(Dict[(0,1)])\n",
    "Dict"
   ]
  },
  {
   "cell_type": "markdown",
   "id": "032373da-a195-4c59-a801-4c820252cf8d",
   "metadata": {},
   "source": [
    "We can verify whether a key is in the dictionary or not using ```in``` operator. It will return ```True``` is key is present otherwise ```False``` will be returned."
   ]
  },
  {
   "cell_type": "code",
   "execution_count": 19,
   "id": "b3af7371-266a-4664-9b3b-941d38fa6bba",
   "metadata": {},
   "outputs": [
    {
     "data": {
      "text/plain": [
       "True"
      ]
     },
     "execution_count": 19,
     "metadata": {},
     "output_type": "execute_result"
    }
   ],
   "source": [
    "\"key1\" in Dict"
   ]
  },
  {
   "cell_type": "code",
   "execution_count": 21,
   "id": "5755527b-b210-41f9-98b3-03ed0b4d6355",
   "metadata": {},
   "outputs": [
    {
     "data": {
      "text/plain": [
       "False"
      ]
     },
     "execution_count": 21,
     "metadata": {},
     "output_type": "execute_result"
    }
   ],
   "source": [
    "\"key10\" in Dict"
   ]
  },
  {
   "cell_type": "markdown",
   "id": "8a0c43c1-5456-4f29-806f-c3012e382f84",
   "metadata": {},
   "source": [
    "Let's Create a dictionary ```Score```  "
   ]
  },
  {
   "cell_type": "code",
   "execution_count": 22,
   "id": "e8d52ebf-d9d2-4464-ae38-f2da488ab392",
   "metadata": {},
   "outputs": [
    {
     "data": {
      "text/plain": [
       "{'Maths': 50, 'English': 70, 'Science': 85}"
      ]
     },
     "execution_count": 22,
     "metadata": {},
     "output_type": "execute_result"
    }
   ],
   "source": [
    "Score = {\"Maths\" : 50, \"English\" : 70, \"Science\" : 85}\n",
    "Score"
   ]
  },
  {
   "cell_type": "code",
   "execution_count": 24,
   "id": "0e9636d9-84f8-4f6a-add8-2fe72a56a3db",
   "metadata": {},
   "outputs": [
    {
     "data": {
      "text/plain": [
       "205"
      ]
     },
     "execution_count": 24,
     "metadata": {},
     "output_type": "execute_result"
    }
   ],
   "source": [
    "# Sum of values can be calculated as following\n",
    "sum(list(Score.values()))"
   ]
  }
 ],
 "metadata": {
  "kernelspec": {
   "display_name": "Python",
   "language": "python",
   "name": "conda-env-python-py"
  },
  "language_info": {
   "codemirror_mode": {
    "name": "ipython",
    "version": 3
   },
   "file_extension": ".py",
   "mimetype": "text/x-python",
   "name": "python",
   "nbconvert_exporter": "python",
   "pygments_lexer": "ipython3",
   "version": "3.6.13"
  }
 },
 "nbformat": 4,
 "nbformat_minor": 5
}
